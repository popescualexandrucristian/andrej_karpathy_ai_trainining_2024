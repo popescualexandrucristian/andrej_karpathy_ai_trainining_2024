{
 "cells": [
  {
   "cell_type": "code",
   "execution_count": 1,
   "id": "318e79a3-f93b-4011-bcaf-d638a6735f3a",
   "metadata": {},
   "outputs": [],
   "source": [
    "#Building makemore Part 3: Activations & Gradients, BatchNorm(https://youtu.be/P6sfmUTpUmc?si=Q5mgzxg49be-SR1L)"
   ]
  },
  {
   "cell_type": "code",
   "execution_count": 2,
   "id": "9e974b13-5222-4bb4-932c-eab4d494efe9",
   "metadata": {},
   "outputs": [],
   "source": [
    "import torch\n",
    "import torch.nn.functional as F\n",
    "from matplotlib import pyplot as plt"
   ]
  },
  {
   "cell_type": "code",
   "execution_count": 3,
   "id": "6d2631d2-4967-4557-84ed-bb72cf3da8c5",
   "metadata": {},
   "outputs": [
    {
     "data": {
      "text/plain": [
       "['emma',\n",
       " 'olivia',\n",
       " 'ava',\n",
       " 'isabella',\n",
       " 'sophia',\n",
       " 'charlotte',\n",
       " 'mia',\n",
       " 'amelia',\n",
       " 'harper',\n",
       " 'evelyn']"
      ]
     },
     "execution_count": 3,
     "metadata": {},
     "output_type": "execute_result"
    }
   ],
   "source": [
    "words = open('names.txt', 'r').read().split()\n",
    "words[:10]"
   ]
  },
  {
   "cell_type": "code",
   "execution_count": 4,
   "id": "92830573-b3c0-47bc-9f2a-63da8fbc96a9",
   "metadata": {},
   "outputs": [],
   "source": [
    "chars = ['.'] + [chr(i + ord('a')) for i in range(26)]\n",
    "stoi = {s:i for i,s in enumerate(chars)}\n",
    "itos = {stoi[v]:v for v in stoi}"
   ]
  },
  {
   "cell_type": "code",
   "execution_count": 5,
   "id": "a0a66c39-5b7b-437a-a329-dd4d79fff341",
   "metadata": {},
   "outputs": [],
   "source": [
    "import random\n",
    "\n",
    "def crete_training_data(words, context_length):\n",
    "    xs = []\n",
    "    ys = []\n",
    "    for w in words:\n",
    "        #print(w)\n",
    "        context = [stoi['.']]*context_length\n",
    "        for ch in w + '.':\n",
    "            ix = stoi[ch]\n",
    "            xs.append(context)\n",
    "            ys.append(ix)\n",
    "            #print(f'{''.join([itos[i] for i in context])} -> {itos[ix]}')\n",
    "            context = context[1:] + [ix] # rolling window\n",
    "    return torch.tensor(xs), torch.tensor(ys)\n",
    "\n",
    "def crete_training_data_with_split(words, context_length, selection_randomization_seed, test_spilit=(0.8,0.1,0.1)):\n",
    "    random.seed(selection_randomization_seed)\n",
    "    random.shuffle(words)\n",
    "    outs = []\n",
    "\n",
    "    sum_for_test_split = sum(s for s in test_spilit)\n",
    "    normalized_test_split = [s/sum_for_test_split for s in test_spilit]\n",
    "    last_start = 0\n",
    "    for i,s in enumerate(normalized_test_split):\n",
    "        start = last_start\n",
    "        if i > 0:\n",
    "            start += int(normalized_test_split[i - 1] * len(words))\n",
    "        last_start = start\n",
    "        end = start + int(s * len(words))\n",
    "        if i + 1 == len(normalized_test_split):\n",
    "            end = len(words)\n",
    "        #print(start,end,len(words))\n",
    "        xs,ys = crete_training_data(words[start:end],context_length)\n",
    "        outs.append((xs,ys))\n",
    "    return outs"
   ]
  },
  {
   "cell_type": "code",
   "execution_count": 6,
   "id": "2b1e5df3-abe7-46bc-81a0-d16f007667f1",
   "metadata": {},
   "outputs": [
    {
     "name": "stdout",
     "output_type": "stream",
     "text": [
      "training data size = 182625, input size =25626\n",
      "dev data size = 22655, input size =3203\n",
      "dev data size = 22866, input size =3203\n"
     ]
    }
   ],
   "source": [
    "data_spilit=(0.8,0.1,0.1)\n",
    "training_data = crete_training_data_with_split(words, 3, 42, data_spilit)\n",
    "Xtr,Ytr = training_data[0]\n",
    "Xdev,Ydev = training_data[1]\n",
    "Xte,Yte = training_data[2]\n",
    "\n",
    "print(f'training data size = {Xtr.shape[0]}, input size ={int(len(words) * data_spilit[0])}')\n",
    "print(f'dev data size = {Xdev.shape[0]}, input size ={int(len(words) * data_spilit[1])}')\n",
    "print(f'dev data size = {Xte.shape[0]}, input size ={int(len(words) * data_spilit[2])}')"
   ]
  },
  {
   "cell_type": "code",
   "execution_count": 7,
   "id": "f9515e5e-8fdf-42d4-b72f-40be0e055a60",
   "metadata": {},
   "outputs": [],
   "source": [
    "#remember if we represent a layer as a matrix we consider every row to be a neuron so we can apply them as x @ matrix so on the columns we have all the waits for a given input\n",
    "\n",
    "#cleand-up version\n",
    "def create_concrete_training_data(embading_size):\n",
    "    words = open('names.txt', 'r').read().split()\n",
    "    return crete_traininng_data(words, embading_size)\n",
    "\n",
    "def crate_model_parameters(alphabet_size, num_embading_dimensions, embading_size, number_of_neurons_in_the_hiden_layer, generator_seed):\n",
    "    #the input space is the same as the output space and the same as the alphabet\n",
    "    \n",
    "    #rng for consistency\n",
    "    g = torch.Generator().manual_seed(generator_seed)\n",
    "    #embading space\n",
    "    C = torch.randn((alphabet_size, num_embading_dimensions), generator=g, requires_grad=True)\n",
    "    #hiden layer\n",
    "    W1 = torch.randn((num_embading_dimensions * embading_size, number_of_neurons_in_the_hiden_layer), generator=g, requires_grad=True)\n",
    "    b1 = torch.randn(number_of_neurons_in_the_hiden_layer, generator=g, requires_grad=True)\n",
    "\n",
    "    #output layer\n",
    "    W2 = torch.randn((number_of_neurons_in_the_hiden_layer, alphabet_size), generator=g, requires_grad=True)\n",
    "    b2 = torch.randn(alphabet_size, generator=g, requires_grad=True)\n",
    "    return [g, C, W1, b1, W2, b2]\n",
    "\n",
    "def forward(parameters, xs, num_embading_dimensions, embading_size):\n",
    "    g, C, W1, b1, W2, b2 = parameters\n",
    "    #embade xs in C\n",
    "    emb = C[xs]\n",
    "    \n",
    "    #apply the hiden layer\n",
    "    h = torch.tanh(emb.view(-1,num_embading_dimensions * embading_size) @ W1 + b1)\n",
    "    \n",
    "    #apply the output layer\n",
    "    logits = h @ W2 + b2\n",
    "    \n",
    "    #soft max\n",
    "    #counts = logits.exp()\n",
    "    #prob = counts / counts.sum(1, keepdim=True)\n",
    "    prob = F.softmax(logits, dim=1)\n",
    "\n",
    "    return prob\n",
    "\n",
    "def calculate_loss(parameters, xs, ys, num_embading_dimensions, embading_size):\n",
    "    g, C, W1, b1, W2, b2 = parameters\n",
    "    #embade xs in C\n",
    "    emb = C[xs] #embad the characters in to the vector space C\n",
    "    embcat = emb.view(-1,num_embading_dimensions * embading_size) # view the embadings in a matrix where all the embading data is in the same row\n",
    "    #apply the hiden layer\n",
    "    h = torch.tanh(embcat @ W1 + b1)\n",
    "    \n",
    "    #apply the output layer\n",
    "    logits = h @ W2 + b2\n",
    "    \n",
    "    loss = F.cross_entropy(logits, ys)\n",
    "    return loss"
   ]
  },
  {
   "cell_type": "code",
   "execution_count": 8,
   "id": "241d3784-77e1-484e-b908-41580c1b4b73",
   "metadata": {},
   "outputs": [
    {
     "name": "stdout",
     "output_type": "stream",
     "text": [
      "num parameters = 3481\n"
     ]
    }
   ],
   "source": [
    "embeding_size = 3\n",
    "alphabet_size = 27\n",
    "num_embading_dimensions = 2\n",
    "number_of_hiden_nerons = 100\n",
    "generator_seed = 214_748_364_7\n",
    "learning_ratre = 1\n",
    "\n",
    "#create model\n",
    "parameters = crate_model_parameters(alphabet_size, num_embading_dimensions, embeding_size, number_of_hiden_nerons, generator_seed)\n",
    "num_parameters = sum(p.nelement() for p in parameters[1:])\n",
    "print(f'num parameters = {num_parameters}')"
   ]
  },
  {
   "cell_type": "code",
   "execution_count": 9,
   "id": "b5aada8f-b497-44ec-90d4-49a5d167e689",
   "metadata": {},
   "outputs": [
    {
     "data": {
      "text/plain": [
       "[<matplotlib.lines.Line2D at 0x22b31397980>]"
      ]
     },
     "execution_count": 9,
     "metadata": {},
     "output_type": "execute_result"
    },
    {
     "data": {
      "image/png": "[encoded data removed]",
      "text/plain": [
       "<Figure size 640x480 with 1 Axes>"
      ]
     },
     "metadata": {},
     "output_type": "display_data"
    }
   ],
   "source": [
    "#training\n",
    "max_steps = 200000\n",
    "batch_size = 32\n",
    "lossi = []\n",
    "for i in range(max_steps):\n",
    "    ##mini batch\n",
    "    batch_indexes = torch.randint(0, Xtr.shape[0], (batch_size,))\n",
    "    local_xs = Xtr[batch_indexes]\n",
    "    local_ys = Ytr[batch_indexes]\n",
    "    \n",
    "    ##forward\n",
    "    loss = calculate_loss(parameters, local_xs, local_ys, num_embading_dimensions, embeding_size)\n",
    "    lossi.append(loss.item())\n",
    "    \n",
    "    ##backward\n",
    "    for p in parameters[1:]:\n",
    "        p.grad = None\n",
    "    loss.backward()\n",
    "\n",
    "    ##update\n",
    "    lr = -0.1 if i < 100000 else -0.01\n",
    "    for p in parameters[1:]:\n",
    "        p.data += lr * p.grad\n",
    "\n",
    "plt.plot(lossi)"
   ]
  },
  {
   "cell_type": "code",
   "execution_count": 10,
   "id": "bd179b33-5dee-4cd5-8921-e4f1e21210ef",
   "metadata": {},
   "outputs": [
    {
     "name": "stdout",
     "output_type": "stream",
     "text": [
      "total loss on the train data = 2.2592062950134277\n",
      "total loss on the val data = 2.263904571533203\n",
      "total loss on the test data = 2.2633423805236816\n"
     ]
    }
   ],
   "source": [
    "@torch.no_grad() # disable the calculation of gradients\n",
    "def split_loss(split):\n",
    "    x,y = {\n",
    "        'train' : training_data[0],\n",
    "        'val'   : training_data[1],\n",
    "        'test'  : training_data[2],\n",
    "    }[split]\n",
    "    loss = calculate_loss(parameters, x, y, num_embading_dimensions, embeding_size)\n",
    "    print(f'total loss on the {split} data = {loss.item()}')\n",
    "\n",
    "split_loss('train')\n",
    "split_loss('val')\n",
    "split_loss('test')"
   ]
  },
  {
   "cell_type": "code",
   "execution_count": 11,
   "id": "ec157f8d-233b-4e19-a6fa-ca46e747596a",
   "metadata": {},
   "outputs": [
    {
     "name": "stdout",
     "output_type": "stream",
     "text": [
      "mora\n",
      "kayah\n",
      "seel\n",
      "ndyn\n",
      "ala\n",
      "emmastejdrlee\n",
      "aderedieliighayloen\n",
      "edelleananar\n",
      "kayzioh\n",
      "kalin\n"
     ]
    }
   ],
   "source": [
    "#use\n",
    "g = torch.Generator().manual_seed(214_748_364_7 + 10)\n",
    "for _ in range(10):\n",
    "    ixs = [0] * embeding_size\n",
    "    output = []\n",
    "    while True:\n",
    "        prob = forward(parameters, torch.tensor([ixs]), num_embading_dimensions, embeding_size)\n",
    "        ix = torch.multinomial(prob, 1, True, generator=g).item()\n",
    "        if ix == 0:\n",
    "            break;\n",
    "        ixs = ixs[1:] + [ix]\n",
    "        #print(ixs)\n",
    "        output.append(itos[ix])\n",
    "    print(''.join(output))"
   ]
  },
  {
   "cell_type": "code",
   "execution_count": null,
   "id": "3b6b7b4c-29b8-488e-8f64-e4673f2166c5",
   "metadata": {},
   "outputs": [],
   "source": []
  }
 ],
 "metadata": {
  "kernelspec": {
   "display_name": "Python 3 (ipykernel)",
   "language": "python",
   "name": "python3"
  },
  "language_info": {
   "codemirror_mode": {
    "name": "ipython",
    "version": 3
   },
   "file_extension": ".py",
   "mimetype": "text/x-python",
   "name": "python",
   "nbconvert_exporter": "python",
   "pygments_lexer": "ipython3",
   "version": "3.12.3"
  }
 },
 "nbformat": 4,
 "nbformat_minor": 5
}
