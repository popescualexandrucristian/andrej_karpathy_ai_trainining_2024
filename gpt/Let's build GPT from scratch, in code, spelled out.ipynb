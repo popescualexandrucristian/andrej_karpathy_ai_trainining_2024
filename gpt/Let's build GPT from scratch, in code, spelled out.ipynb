{
 "cells": [
  {
   "cell_type": "code",
   "execution_count": null,
   "id": "5ded07a1-a999-4247-8140-37d39a3c4e9a",
   "metadata": {},
   "outputs": [],
   "source": [
    "# Let's build GPT: from scratch, in code, spelled out.(https://youtu.be/kCc8FmEb1nY?si=YTkDSOYk5S_CJVtz)"
   ]
  },
  {
   "cell_type": "code",
   "execution_count": 3,
   "id": "6401ba27-e3d5-4de8-86a9-d59c360c284d",
   "metadata": {},
   "outputs": [],
   "source": [
    "with open('tinyshakespeare.txt', 'r') as f:\n",
    "    text = f.read()"
   ]
  },
  {
   "cell_type": "code",
   "execution_count": 9,
   "id": "059ff0c6-c815-41aa-bddf-8248ef9957e3",
   "metadata": {},
   "outputs": [
    {
     "name": "stdout",
     "output_type": "stream",
     "text": [
      "sample: \n",
      "First Citizen:\n",
      "Before we proceed any further, hear me speak.\n",
      "\n",
      "All:\n",
      "Speak, speak.\n",
      "\n",
      "First Citizen:\n",
      "You\n",
      "\n",
      "total text lenght : 1115394\n"
     ]
    }
   ],
   "source": [
    "print(f'sample: \\n{text[:100]}\\n\\ntotal text lenght : {len(text)}')"
   ]
  },
  {
   "cell_type": "code",
   "execution_count": 10,
   "id": "3cea690a-04a7-48aa-8279-a281bd43d769",
   "metadata": {},
   "outputs": [
    {
     "name": "stdout",
     "output_type": "stream",
     "text": [
      "\n",
      " !$&',-.3:;?ABCDEFGHIJKLMNOPQRSTUVWXYZabcdefghijklmnopqrstuvwxyz\n",
      "65\n"
     ]
    }
   ],
   "source": [
    "chars = sorted(list(set(text)))\n",
    "vocab_size = len(chars)\n",
    "print(''.join(chars))\n",
    "print(vocab_size)"
   ]
  },
  {
   "cell_type": "code",
   "execution_count": 13,
   "id": "70c72811-cf86-4857-bb8d-8c09aa96cff0",
   "metadata": {},
   "outputs": [
    {
     "name": "stdout",
     "output_type": "stream",
     "text": [
      "[46, 47, 1, 58, 46, 43, 56, 43, 2]\n",
      "hi there!\n"
     ]
    }
   ],
   "source": [
    "stoi = {ch:i for i,ch in enumerate(chars)}\n",
    "itos = {i:ch for i,ch in enumerate(chars)}\n",
    "encode =lambda s: [stoi[c] for c in s]\n",
    "decode =lambda l: ''.join([itos[i] for i in l])\n",
    "print(encode('hi there!'))\n",
    "print(decode(encode('hi there!')))"
   ]
  },
  {
   "cell_type": "code",
   "execution_count": 14,
   "id": "a22ff7d6-3abf-437e-b92f-b53a1010fce9",
   "metadata": {},
   "outputs": [
    {
     "name": "stdout",
     "output_type": "stream",
     "text": [
      "sample : \n",
      "tensor([18, 47, 56, 57, 58,  1, 15, 47, 58, 47, 64, 43, 52, 10,  0, 14, 43, 44,\n",
      "        53, 56, 43,  1, 61, 43,  1, 54, 56, 53, 41, 43, 43, 42,  1, 39, 52, 63,\n",
      "         1, 44, 59, 56, 58, 46, 43, 56,  6,  1, 46, 43, 39, 56,  1, 51, 43,  1,\n",
      "        57, 54, 43, 39, 49,  8,  0,  0, 13, 50, 50, 10,  0, 31, 54, 43, 39, 49,\n",
      "         6,  1, 57, 54, 43, 39, 49,  8,  0,  0, 18, 47, 56, 57, 58,  1, 15, 47,\n",
      "        58, 47, 64, 43, 52, 10,  0, 37, 53, 59])\n",
      "\n",
      "shape = torch.Size([1115394]), dtype = torch.int64\n"
     ]
    }
   ],
   "source": [
    "import torch\n",
    "data = torch.tensor(encode(text), dtype = torch.long)\n",
    "print(f'sample : \\n{data[:100]}\\n\\nshape = {data.shape}, dtype = {data.dtype}')"
   ]
  },
  {
   "cell_type": "code",
   "execution_count": 15,
   "id": "ad99ed2e-e8e8-4167-93e9-b727514ab29d",
   "metadata": {},
   "outputs": [],
   "source": [
    "n = int(0.9 * len(data))\n",
    "train_data = data[:n]\n",
    "val_data = data[n:]"
   ]
  },
  {
   "cell_type": "code",
   "execution_count": 17,
   "id": "6d587af9-39c6-45b5-b511-e47389843e7c",
   "metadata": {},
   "outputs": [
    {
     "name": "stdout",
     "output_type": "stream",
     "text": [
      "tensor([18]) ---> tensor(47)\n",
      "tensor([18, 47]) ---> tensor(56)\n",
      "tensor([18, 47, 56]) ---> tensor(57)\n",
      "tensor([18, 47, 56, 57]) ---> tensor(58)\n",
      "tensor([18, 47, 56, 57, 58]) ---> tensor(1)\n",
      "tensor([18, 47, 56, 57, 58,  1]) ---> tensor(15)\n",
      "tensor([18, 47, 56, 57, 58,  1, 15]) ---> tensor(47)\n",
      "tensor([18, 47, 56, 57, 58,  1, 15, 47]) ---> tensor(58)\n"
     ]
    }
   ],
   "source": [
    "block_size = 8\n",
    "x = train_data[:block_size]\n",
    "y = train_data[1:block_size + 1]\n",
    "for t in range(block_size):\n",
    "    context = x[:t+1]\n",
    "    target = y[t]\n",
    "    print(context, '--->', target)"
   ]
  },
  {
   "cell_type": "code",
   "execution_count": 19,
   "id": "ac6653d7-52eb-418a-be8a-5d2eff8f86e9",
   "metadata": {},
   "outputs": [
    {
     "name": "stdout",
     "output_type": "stream",
     "text": [
      "input :\n",
      "torch.Size([8, 8])\n",
      "tensor([[24, 43, 58,  5, 57,  1, 46, 43],\n",
      "        [44, 53, 56,  1, 58, 46, 39, 58],\n",
      "        [52, 58,  1, 58, 46, 39, 58,  1],\n",
      "        [25, 17, 27, 10,  0, 21,  1, 54],\n",
      "        [57, 43, 60, 43, 52,  1, 63, 43],\n",
      "        [60, 43, 42,  8,  0, 25, 63,  1],\n",
      "        [56, 42,  5, 57,  1, 57, 39, 49],\n",
      "        [43, 57, 58, 63,  6,  1, 58, 46]])\n",
      "target :\n",
      "torch.Size([8, 8])\n",
      "tensor([[43, 58,  5, 57,  1, 46, 43, 39],\n",
      "        [53, 56,  1, 58, 46, 39, 58,  1],\n",
      "        [58,  1, 58, 46, 39, 58,  1, 46],\n",
      "        [17, 27, 10,  0, 21,  1, 54, 39],\n",
      "        [43, 60, 43, 52,  1, 63, 43, 39],\n",
      "        [43, 42,  8,  0, 25, 63,  1, 45],\n",
      "        [42,  5, 57,  1, 57, 39, 49, 43],\n",
      "        [57, 58, 63,  6,  1, 58, 46, 47]])\n"
     ]
    }
   ],
   "source": [
    "torch.manual_seed(1337)\n",
    "batch_size = 4\n",
    "block_size = 8\n",
    "\n",
    "def get_batch(split):\n",
    "    data = {\n",
    "        'train' : train_data,\n",
    "        'val' : val_data\n",
    "    }[split]\n",
    "    ix = torch.randint(len(data) - block_size, (block_size,))\n",
    "    x = torch.stack([data[i: i + block_size] for i in ix])\n",
    "    y = torch.stack([data[i + 1: i + block_size + 1] for i in ix])\n",
    "    return x,y\n",
    "\n",
    "xb, yb = get_batch('train')\n",
    "print(f'input :\\n{xb.shape}\\n{xb}\\ntarget :\\n{yb.shape}\\n{yb}')"
   ]
  },
  {
   "cell_type": "code",
   "execution_count": null,
   "id": "0a03de37-d5e6-491f-95f7-4c0c47b89a61",
   "metadata": {},
   "outputs": [],
   "source": []
  },
  {
   "cell_type": "code",
   "execution_count": null,
   "id": "14a3ef04-0771-4a64-a2c7-8e22345fd141",
   "metadata": {},
   "outputs": [],
   "source": []
  }
 ],
 "metadata": {
  "kernelspec": {
   "display_name": "Python 3 (ipykernel)",
   "language": "python",
   "name": "python3"
  },
  "language_info": {
   "codemirror_mode": {
    "name": "ipython",
    "version": 3
   },
   "file_extension": ".py",
   "mimetype": "text/x-python",
   "name": "python",
   "nbconvert_exporter": "python",
   "pygments_lexer": "ipython3",
   "version": "3.12.3"
  }
 },
 "nbformat": 4,
 "nbformat_minor": 5
}
